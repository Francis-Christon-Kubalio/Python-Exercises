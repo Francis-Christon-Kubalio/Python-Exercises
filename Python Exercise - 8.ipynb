{
 "cells": [
  {
   "cell_type": "markdown",
   "id": "9ffab6d0",
   "metadata": {},
   "source": [
    "# Exercise - 8"
   ]
  },
  {
   "cell_type": "raw",
   "id": "84af7717",
   "metadata": {},
   "source": [
    "Exercise Name:\n",
    "\t08-Decorator-Demo\n",
    "Description:\n",
    "\tCreate a decorator called 'time_this' and use it to measure time taken to run functions\n",
    "\n",
    "For example, running:\n",
    "\t@time_this\n",
    "\tdef sleeper_func(sleeptime):\n",
    "\t    print(f'sleeping for {sleeptime}')\n",
    "\t    sleep(sleeptime)\n",
    "\t    return 'Woke up!'\n",
    "\n",
    "\tsleeper_func(2)\n",
    "\n",
    "Sould output the following in the console:\n",
    "\t--> Running sleeper_func\n",
    "\tsleeping for 2\n",
    "\t--> sleeper_func ran in 2.002105236053467 seconds\n"
   ]
  },
  {
   "cell_type": "code",
   "execution_count": 330,
   "id": "896d1327",
   "metadata": {},
   "outputs": [
    {
     "name": "stdout",
     "output_type": "stream",
     "text": [
      "2\n",
      "Total time taken for the function factorial  to execute :  2.0056116580963135\n"
     ]
    }
   ],
   "source": [
    "\n",
    "import time\n",
    "import math\n",
    " \n",
    "def time_this(func):\n",
    "     \n",
    "    def inner1(*args, **kwargs):\n",
    " \n",
    "        \n",
    "        start_time = time.time()\n",
    "         \n",
    "        func(*args, **kwargs)\n",
    " \n",
    "        \n",
    "        finish_time = time.time()\n",
    "        print(\"Total time taken for the function\", func.__name__, \" to execute : \" ,finish_time - start_time)\n",
    " \n",
    "    return inner1\n",
    "\n",
    "\n",
    " \n",
    "#This time decorator cheching \n",
    " \n",
    "\n",
    "@time_this\n",
    "def factorial(num):\n",
    " \n",
    "    \n",
    "    time.sleep(2)\n",
    "    print(math.factorial(num))\n",
    " \n",
    "\n",
    "factorial(2)"
   ]
  },
  {
   "cell_type": "markdown",
   "id": "18ad695a",
   "metadata": {},
   "source": [
    "Decorator time_this checking"
   ]
  },
  {
   "cell_type": "code",
   "execution_count": 333,
   "id": "abb76ee8",
   "metadata": {},
   "outputs": [
    {
     "name": "stdout",
     "output_type": "stream",
     "text": [
      "5 is a prime number\n",
      "Total time taken for the function PrimeChecker  to execute :  2.003737688064575\n"
     ]
    }
   ],
   "source": [
    "@time_this\n",
    "def PrimeChecker(a):  \n",
    "    time.sleep(2)    \n",
    "    if a > 1:          \n",
    "        for j in range(2, int(a/2) + 1):              \n",
    "            if (a % j) == 0:  \n",
    "                print(a, \"is not a prime number\")  \n",
    "                break        \n",
    "        else:  \n",
    "            print(a, \"is a prime number\")       \n",
    "    else:  \n",
    "        print(a, \"is not a prime number\")  \n",
    "PrimeChecker(5)"
   ]
  },
  {
   "cell_type": "code",
   "execution_count": null,
   "id": "e67a32c0",
   "metadata": {},
   "outputs": [],
   "source": []
  }
 ],
 "metadata": {
  "kernelspec": {
   "display_name": "Python 3 (ipykernel)",
   "language": "python",
   "name": "python3"
  },
  "language_info": {
   "codemirror_mode": {
    "name": "ipython",
    "version": 3
   },
   "file_extension": ".py",
   "mimetype": "text/x-python",
   "name": "python",
   "nbconvert_exporter": "python",
   "pygments_lexer": "ipython3",
   "version": "3.9.13"
  }
 },
 "nbformat": 4,
 "nbformat_minor": 5
}
