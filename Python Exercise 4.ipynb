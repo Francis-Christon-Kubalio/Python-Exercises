{
 "cells": [
  {
   "cell_type": "markdown",
   "id": "f0225cde",
   "metadata": {},
   "source": [
    "# Exercise 4"
   ]
  },
  {
   "cell_type": "raw",
   "id": "26e81d44",
   "metadata": {},
   "source": [
    "Exercise Name:\n",
    "\t04-List-Occurence-Counter\n",
    "Description:\n",
    "\tDisplay all duplicate items from a list\n",
    "Given:\n",
    "\tsample_list = [10, 20, 60, 30, 20, 40, 30, 60, 70, 80]\n",
    "Return:\n",
    "\t[20, 60, 30]\n",
    "Hint: \n",
    "\tCount occurence of each item in the list and print items occuring more than once."
   ]
  },
  {
   "cell_type": "markdown",
   "id": "7338e838",
   "metadata": {},
   "source": [
    "Method 1 - Using Count"
   ]
  },
  {
   "cell_type": "code",
   "execution_count": 288,
   "id": "b7b8071d",
   "metadata": {},
   "outputs": [],
   "source": [
    "sample_list = [10, 20, 60, 30, 20, 40, 30, 60, 70, 80]\n",
    "duplicates = set()\n",
    "for ele in sample_list:\n",
    "    if sample_list.count(ele) >=2:\n",
    "        count = duplicates.add(ele)\n",
    "    "
   ]
  },
  {
   "cell_type": "code",
   "execution_count": 289,
   "id": "2c7462f9",
   "metadata": {},
   "outputs": [
    {
     "data": {
      "text/plain": [
       "{20, 30, 60}"
      ]
     },
     "execution_count": 289,
     "metadata": {},
     "output_type": "execute_result"
    }
   ],
   "source": [
    "duplicates"
   ]
  },
  {
   "cell_type": "markdown",
   "id": "30486c2d",
   "metadata": {},
   "source": [
    "Method 2 - Using Counter Library"
   ]
  },
  {
   "cell_type": "code",
   "execution_count": 290,
   "id": "b40acf0f",
   "metadata": {},
   "outputs": [
    {
     "name": "stdout",
     "output_type": "stream",
     "text": [
      "{20: 2, 60: 2, 30: 2}\n"
     ]
    }
   ],
   "source": [
    "from collections import Counter\n",
    "sample_list = [10, 20, 60, 30, 20, 40, 30, 60, 70, 80]\n",
    "\n",
    "counts = dict(Counter(sample_list))\n",
    "duplicates = {key:value for key, value in counts.items() if value > 1}\n",
    "print(duplicates)\n",
    "\n"
   ]
  },
  {
   "cell_type": "markdown",
   "id": "59078dbc",
   "metadata": {},
   "source": [
    "Method 3 - Using For loop"
   ]
  },
  {
   "cell_type": "code",
   "execution_count": 291,
   "id": "9658b236",
   "metadata": {},
   "outputs": [
    {
     "name": "stdout",
     "output_type": "stream",
     "text": [
      "Duplicate elements in sample_list: \n",
      "20\n",
      "60\n",
      "30\n"
     ]
    }
   ],
   "source": [
    "sample_list = [10, 20, 60, 30, 20, 40, 30, 60, 70, 80] \n",
    "     \n",
    "print(\"Duplicate elements in sample_list: \");    \n",
    "#Searches for duplicate element    \n",
    "for i in range(0, len(sample_list)):    \n",
    "    for j in range(i+1, len(sample_list)):    \n",
    "        if(sample_list[i] == sample_list[j]):    \n",
    "            print(sample_list[j]);    "
   ]
  },
  {
   "cell_type": "code",
   "execution_count": null,
   "id": "ddf22a3f",
   "metadata": {},
   "outputs": [],
   "source": []
  }
 ],
 "metadata": {
  "kernelspec": {
   "display_name": "Python 3 (ipykernel)",
   "language": "python",
   "name": "python3"
  },
  "language_info": {
   "codemirror_mode": {
    "name": "ipython",
    "version": 3
   },
   "file_extension": ".py",
   "mimetype": "text/x-python",
   "name": "python",
   "nbconvert_exporter": "python",
   "pygments_lexer": "ipython3",
   "version": "3.9.13"
  }
 },
 "nbformat": 4,
 "nbformat_minor": 5
}
