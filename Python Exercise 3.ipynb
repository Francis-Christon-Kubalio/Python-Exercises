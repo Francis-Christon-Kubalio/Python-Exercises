{
 "cells": [
  {
   "cell_type": "markdown",
   "id": "8a70b309",
   "metadata": {},
   "source": [
    "# Exercise 3"
   ]
  },
  {
   "cell_type": "raw",
   "id": "2a64601e",
   "metadata": {},
   "source": [
    "Exercise Name:\n",
    "\t03-List-Manipulation\n",
    "Description:\n",
    "\tRemove items greater than 50 from a list while iterating but without creating a different copy of a list.\n",
    "Given:\n",
    "\tnumber_list = [10, 20, 30, 40, 50, 60, 70, 80, 90, 100]\n",
    "Return:\n",
    "\t[10, 20, 30, 40, 50]\n",
    "Note:\n",
    "\tID of input and output list should match"
   ]
  },
  {
   "cell_type": "code",
   "execution_count": 286,
   "id": "aa529dac",
   "metadata": {},
   "outputs": [],
   "source": [
    "number_list = [10, 20, 30, 40, 50, 60, 70, 80, 90, 100]\n",
    "for number in list(number_list):\n",
    "    if number > 50:\n",
    "        number_list.remove(number)\n",
    "    \n",
    "\n",
    "    "
   ]
  },
  {
   "cell_type": "code",
   "execution_count": 287,
   "id": "32260c65",
   "metadata": {},
   "outputs": [
    {
     "data": {
      "text/plain": [
       "[10, 20, 30, 40, 50]"
      ]
     },
     "execution_count": 287,
     "metadata": {},
     "output_type": "execute_result"
    }
   ],
   "source": [
    "number_list"
   ]
  },
  {
   "cell_type": "code",
   "execution_count": null,
   "id": "b288ccf1",
   "metadata": {},
   "outputs": [],
   "source": []
  }
 ],
 "metadata": {
  "kernelspec": {
   "display_name": "Python 3 (ipykernel)",
   "language": "python",
   "name": "python3"
  },
  "language_info": {
   "codemirror_mode": {
    "name": "ipython",
    "version": 3
   },
   "file_extension": ".py",
   "mimetype": "text/x-python",
   "name": "python",
   "nbconvert_exporter": "python",
   "pygments_lexer": "ipython3",
   "version": "3.9.13"
  }
 },
 "nbformat": 4,
 "nbformat_minor": 5
}
