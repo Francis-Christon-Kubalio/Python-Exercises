{
 "cells": [
  {
   "cell_type": "markdown",
   "id": "1686abc4",
   "metadata": {},
   "source": [
    "# Python Exercise"
   ]
  },
  {
   "cell_type": "markdown",
   "id": "ee666cd5",
   "metadata": {},
   "source": [
    "# Exercise 1"
   ]
  },
  {
   "cell_type": "raw",
   "id": "308b2ada",
   "metadata": {},
   "source": [
    "Exercise Name:\n",
    "\t01-String-Reversal\n",
    "Description:\n",
    "\tReverse each word of a string.\n",
    "Given: \n",
    "\tsentence = \"Python is Awesome\"\n",
    "Return: \n",
    "\t\"nohtyP si emosewA\""
   ]
  },
  {
   "cell_type": "markdown",
   "id": "c0261b0a",
   "metadata": {},
   "source": [
    "Method 1 - without using any inbuilt functions"
   ]
  },
  {
   "cell_type": "code",
   "execution_count": 274,
   "id": "18846b06",
   "metadata": {},
   "outputs": [],
   "source": [
    "string = 'Python is Awesome'\n",
    "final_word = \"\"\n",
    "rev_word = \"\"\n",
    "for char in (string + \" \" ):\n",
    "    if char == ' ':\n",
    "        if rev_word:\n",
    "            final_word =   final_word + \" \" + rev_word\n",
    "            rev_word =\" \"\n",
    "    else:\n",
    "        rev_word =  char + rev_word\n"
   ]
  },
  {
   "cell_type": "code",
   "execution_count": 275,
   "id": "7ef8b547",
   "metadata": {},
   "outputs": [
    {
     "data": {
      "text/plain": [
       "' nohtyP si  emosewA '"
      ]
     },
     "execution_count": 275,
     "metadata": {},
     "output_type": "execute_result"
    }
   ],
   "source": [
    "final_word"
   ]
  },
  {
   "cell_type": "markdown",
   "id": "ac4e4d34",
   "metadata": {},
   "source": [
    "Method 2 - Making it into a function"
   ]
  },
  {
   "cell_type": "code",
   "execution_count": 276,
   "id": "915cd94a",
   "metadata": {},
   "outputs": [],
   "source": [
    "def reverseString(string):\n",
    "    final_word = \"\"\n",
    "    rev_word = \"\"\n",
    "    for char in (string + \" \" ):\n",
    "        if char == ' ':\n",
    "            if rev_word:\n",
    "                final_word =   final_word + \" \" + rev_word\n",
    "                rev_word =\" \"\n",
    "        else:\n",
    "            rev_word =  char + rev_word\n",
    "    return(final_word)\n"
   ]
  },
  {
   "cell_type": "code",
   "execution_count": 277,
   "id": "d23d4b2c",
   "metadata": {},
   "outputs": [
    {
     "data": {
      "text/plain": [
       "' nohtyP si  emosewA '"
      ]
     },
     "execution_count": 277,
     "metadata": {},
     "output_type": "execute_result"
    }
   ],
   "source": [
    "reverseString(\"Python is Awesome\")"
   ]
  },
  {
   "cell_type": "markdown",
   "id": "a8d406ae",
   "metadata": {},
   "source": [
    "Method 3 - Using Inbuilt function"
   ]
  },
  {
   "cell_type": "code",
   "execution_count": 279,
   "id": "f2f582ab",
   "metadata": {},
   "outputs": [],
   "source": [
    "sentence = \"Python is Awesome\"\n",
    "words = sentence.split(\" \")\n",
    "newwords=[]\n",
    "rev_string=\" \"\n",
    "for word in words:\n",
    "    newwords+=[word[::-1]]    \n",
    "for newword in newwords:\n",
    "    rev_string+=newword + \" \"\n",
    "    \n",
    "\n",
    "    \n",
    "    \n",
    "    \n",
    "    \n",
    "        "
   ]
  },
  {
   "cell_type": "code",
   "execution_count": 280,
   "id": "9c7ba13e",
   "metadata": {},
   "outputs": [
    {
     "data": {
      "text/plain": [
       "' nohtyP si emosewA '"
      ]
     },
     "execution_count": 280,
     "metadata": {},
     "output_type": "execute_result"
    }
   ],
   "source": [
    "rev_string"
   ]
  },
  {
   "cell_type": "markdown",
   "id": "4ebc2308",
   "metadata": {},
   "source": [
    "Method_4 - Make it into Function"
   ]
  },
  {
   "cell_type": "code",
   "execution_count": 282,
   "id": "33cea8b1",
   "metadata": {},
   "outputs": [],
   "source": [
    "def revSentence(sentence):\n",
    "    words = sentence.split(\" \")\n",
    "    newwords=[]\n",
    "    rev_string=\" \"\n",
    "    for word in words:\n",
    "        newwords+=[word[::-1]]    \n",
    "    for newword in newwords:\n",
    "        rev_string+=newword + \" \"\n",
    "    return(rev_string)\n",
    "    "
   ]
  },
  {
   "cell_type": "code",
   "execution_count": 283,
   "id": "ce2d9563",
   "metadata": {},
   "outputs": [
    {
     "data": {
      "text/plain": [
       "' nohtyP si emosewA '"
      ]
     },
     "execution_count": 283,
     "metadata": {},
     "output_type": "execute_result"
    }
   ],
   "source": [
    "revSentence(\"Python is Awesome\")"
   ]
  },
  {
   "cell_type": "code",
   "execution_count": null,
   "id": "eeeba977",
   "metadata": {},
   "outputs": [],
   "source": []
  }
 ],
 "metadata": {
  "kernelspec": {
   "display_name": "Python 3 (ipykernel)",
   "language": "python",
   "name": "python3"
  },
  "language_info": {
   "codemirror_mode": {
    "name": "ipython",
    "version": 3
   },
   "file_extension": ".py",
   "mimetype": "text/x-python",
   "name": "python",
   "nbconvert_exporter": "python",
   "pygments_lexer": "ipython3",
   "version": "3.9.13"
  }
 },
 "nbformat": 4,
 "nbformat_minor": 5
}
