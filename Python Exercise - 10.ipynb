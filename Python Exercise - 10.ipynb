{
 "cells": [
  {
   "cell_type": "markdown",
   "id": "49309a8e",
   "metadata": {},
   "source": [
    "# Exercise - 10"
   ]
  },
  {
   "cell_type": "raw",
   "id": "0e321984",
   "metadata": {},
   "source": [
    "Exercise Name:\n",
    "\t10-wordle\n",
    "Description:\n",
    "\tCreate the wordle game\n",
    "Resources:\n",
    "\tValid Words List: https://gist.github.com/dracos/dd0668f281e685bad51479e5acaadb93"
   ]
  },
  {
   "cell_type": "code",
   "execution_count": 3,
   "id": "ee9366a5",
   "metadata": {},
   "outputs": [
    {
     "name": "stdout",
     "output_type": "stream",
     "text": [
      "Collecting rich\n",
      "  Downloading rich-12.6.0-py3-none-any.whl (237 kB)\n",
      "     -------------------------------------- 237.5/237.5 kB 1.1 MB/s eta 0:00:00\n",
      "Collecting commonmark<0.10.0,>=0.9.0\n",
      "  Downloading commonmark-0.9.1-py2.py3-none-any.whl (51 kB)\n",
      "     ---------------------------------------- 51.1/51.1 kB 2.6 MB/s eta 0:00:00\n",
      "Requirement already satisfied: pygments<3.0.0,>=2.6.0 in c:\\users\\francis.kubalio\\anaconda3\\lib\\site-packages (from rich) (2.11.2)\n",
      "Installing collected packages: commonmark, rich\n",
      "Successfully installed commonmark-0.9.1 rich-12.6.0\n",
      "Note: you may need to restart the kernel to use updated packages.\n"
     ]
    }
   ],
   "source": [
    "pip install rich"
   ]
  },
  {
   "cell_type": "code",
   "execution_count": 189,
   "id": "ace0cc48",
   "metadata": {},
   "outputs": [
    {
     "name": "stdout",
     "output_type": "stream",
     "text": [
      "lets play Wordle\n",
      "Type the guessed word and hit enter!\n"
     ]
    },
    {
     "data": {
      "text/html": [
       "<pre style=\"white-space:pre;overflow-x:auto;line-height:normal;font-family:Menlo,'DejaVu Sans Mono',consolas,'Courier New',monospace\">\n",
       "Enter your guessed 5 letter word: </pre>\n"
      ],
      "text/plain": [
       "\n",
       "Enter your guessed 5 letter word: "
      ]
     },
     "metadata": {},
     "output_type": "display_data"
    },
    {
     "name": "stdout",
     "output_type": "stream",
     "text": [
      "asdfg\n"
     ]
    },
    {
     "data": {
      "text/html": [
       "<pre style=\"white-space:pre;overflow-x:auto;line-height:normal;font-family:Menlo,'DejaVu Sans Mono',consolas,'Courier New',monospace\"><span style=\"color: #000000; text-decoration-color: #000000; background-color: #c0c0c0\">A</span><span style=\"color: #000000; text-decoration-color: #000000; background-color: #808000\">S</span><span style=\"color: #000000; text-decoration-color: #000000; background-color: #c0c0c0\">DF</span><span style=\"color: #000000; text-decoration-color: #000000; background-color: #808000\">G</span>\n",
       "</pre>\n"
      ],
      "text/plain": [
       "\u001b[30;47mA\u001b[0m\u001b[30;43mS\u001b[0m\u001b[30;47mD\u001b[0m\u001b[30;47mF\u001b[0m\u001b[30;43mG\u001b[0m\n"
      ]
     },
     "metadata": {},
     "output_type": "display_data"
    },
    {
     "data": {
      "text/html": [
       "<pre style=\"white-space:pre;overflow-x:auto;line-height:normal;font-family:Menlo,'DejaVu Sans Mono',consolas,'Courier New',monospace\">\n",
       "Enter your guessed 5 letter word: </pre>\n"
      ],
      "text/plain": [
       "\n",
       "Enter your guessed 5 letter word: "
      ]
     },
     "metadata": {},
     "output_type": "display_data"
    },
    {
     "name": "stdout",
     "output_type": "stream",
     "text": [
      "sghrb\n"
     ]
    },
    {
     "data": {
      "text/html": [
       "<pre style=\"white-space:pre;overflow-x:auto;line-height:normal;font-family:Menlo,'DejaVu Sans Mono',consolas,'Courier New',monospace\"><span style=\"color: #000000; text-decoration-color: #000000; background-color: #c0c0c0\">A</span><span style=\"color: #000000; text-decoration-color: #000000; background-color: #808000\">S</span><span style=\"color: #000000; text-decoration-color: #000000; background-color: #c0c0c0\">DF</span><span style=\"color: #000000; text-decoration-color: #000000; background-color: #808000\">G</span>\n",
       "<span style=\"color: #000000; text-decoration-color: #000000; background-color: #008000\">S</span><span style=\"color: #000000; text-decoration-color: #000000; background-color: #808000\">G</span><span style=\"color: #000000; text-decoration-color: #000000; background-color: #c0c0c0\">HRB</span>\n",
       "</pre>\n"
      ],
      "text/plain": [
       "\u001b[30;47mA\u001b[0m\u001b[30;43mS\u001b[0m\u001b[30;47mD\u001b[0m\u001b[30;47mF\u001b[0m\u001b[30;43mG\u001b[0m\n",
       "\u001b[30;42mS\u001b[0m\u001b[30;43mG\u001b[0m\u001b[30;47mH\u001b[0m\u001b[30;47mR\u001b[0m\u001b[30;47mB\u001b[0m\n"
      ]
     },
     "metadata": {},
     "output_type": "display_data"
    },
    {
     "data": {
      "text/html": [
       "<pre style=\"white-space:pre;overflow-x:auto;line-height:normal;font-family:Menlo,'DejaVu Sans Mono',consolas,'Courier New',monospace\">\n",
       "Enter your guessed 5 letter word: </pre>\n"
      ],
      "text/plain": [
       "\n",
       "Enter your guessed 5 letter word: "
      ]
     },
     "metadata": {},
     "output_type": "display_data"
    },
    {
     "name": "stdout",
     "output_type": "stream",
     "text": [
      "smoge\n"
     ]
    },
    {
     "data": {
      "text/html": [
       "<pre style=\"white-space:pre;overflow-x:auto;line-height:normal;font-family:Menlo,'DejaVu Sans Mono',consolas,'Courier New',monospace\"><span style=\"color: #000000; text-decoration-color: #000000; background-color: #c0c0c0\">A</span><span style=\"color: #000000; text-decoration-color: #000000; background-color: #808000\">S</span><span style=\"color: #000000; text-decoration-color: #000000; background-color: #c0c0c0\">DF</span><span style=\"color: #000000; text-decoration-color: #000000; background-color: #808000\">G</span>\n",
       "<span style=\"color: #000000; text-decoration-color: #000000; background-color: #008000\">S</span><span style=\"color: #000000; text-decoration-color: #000000; background-color: #808000\">G</span><span style=\"color: #000000; text-decoration-color: #000000; background-color: #c0c0c0\">HRB</span>\n",
       "<span style=\"color: #000000; text-decoration-color: #000000; background-color: #008000\">S</span><span style=\"color: #000000; text-decoration-color: #000000; background-color: #c0c0c0\">M</span><span style=\"color: #000000; text-decoration-color: #000000; background-color: #008000\">OG</span><span style=\"color: #000000; text-decoration-color: #000000; background-color: #c0c0c0\">E</span>\n",
       "</pre>\n"
      ],
      "text/plain": [
       "\u001b[30;47mA\u001b[0m\u001b[30;43mS\u001b[0m\u001b[30;47mD\u001b[0m\u001b[30;47mF\u001b[0m\u001b[30;43mG\u001b[0m\n",
       "\u001b[30;42mS\u001b[0m\u001b[30;43mG\u001b[0m\u001b[30;47mH\u001b[0m\u001b[30;47mR\u001b[0m\u001b[30;47mB\u001b[0m\n",
       "\u001b[30;42mS\u001b[0m\u001b[30;47mM\u001b[0m\u001b[30;42mO\u001b[0m\u001b[30;42mG\u001b[0m\u001b[30;47mE\u001b[0m\n"
      ]
     },
     "metadata": {},
     "output_type": "display_data"
    },
    {
     "data": {
      "text/html": [
       "<pre style=\"white-space:pre;overflow-x:auto;line-height:normal;font-family:Menlo,'DejaVu Sans Mono',consolas,'Courier New',monospace\">\n",
       "Enter your guessed 5 letter word: </pre>\n"
      ],
      "text/plain": [
       "\n",
       "Enter your guessed 5 letter word: "
      ]
     },
     "metadata": {},
     "output_type": "display_data"
    },
    {
     "name": "stdout",
     "output_type": "stream",
     "text": [
      "soogd\n"
     ]
    },
    {
     "data": {
      "text/html": [
       "<pre style=\"white-space:pre;overflow-x:auto;line-height:normal;font-family:Menlo,'DejaVu Sans Mono',consolas,'Courier New',monospace\"><span style=\"color: #000000; text-decoration-color: #000000; background-color: #c0c0c0\">A</span><span style=\"color: #000000; text-decoration-color: #000000; background-color: #808000\">S</span><span style=\"color: #000000; text-decoration-color: #000000; background-color: #c0c0c0\">DF</span><span style=\"color: #000000; text-decoration-color: #000000; background-color: #808000\">G</span>\n",
       "<span style=\"color: #000000; text-decoration-color: #000000; background-color: #008000\">S</span><span style=\"color: #000000; text-decoration-color: #000000; background-color: #808000\">G</span><span style=\"color: #000000; text-decoration-color: #000000; background-color: #c0c0c0\">HRB</span>\n",
       "<span style=\"color: #000000; text-decoration-color: #000000; background-color: #008000\">S</span><span style=\"color: #000000; text-decoration-color: #000000; background-color: #c0c0c0\">M</span><span style=\"color: #000000; text-decoration-color: #000000; background-color: #008000\">OG</span><span style=\"color: #000000; text-decoration-color: #000000; background-color: #c0c0c0\">E</span>\n",
       "<span style=\"color: #000000; text-decoration-color: #000000; background-color: #008000\">S</span><span style=\"color: #000000; text-decoration-color: #000000; background-color: #808000\">O</span><span style=\"color: #000000; text-decoration-color: #000000; background-color: #008000\">OG</span><span style=\"color: #000000; text-decoration-color: #000000; background-color: #c0c0c0\">D</span>\n",
       "</pre>\n"
      ],
      "text/plain": [
       "\u001b[30;47mA\u001b[0m\u001b[30;43mS\u001b[0m\u001b[30;47mD\u001b[0m\u001b[30;47mF\u001b[0m\u001b[30;43mG\u001b[0m\n",
       "\u001b[30;42mS\u001b[0m\u001b[30;43mG\u001b[0m\u001b[30;47mH\u001b[0m\u001b[30;47mR\u001b[0m\u001b[30;47mB\u001b[0m\n",
       "\u001b[30;42mS\u001b[0m\u001b[30;47mM\u001b[0m\u001b[30;42mO\u001b[0m\u001b[30;42mG\u001b[0m\u001b[30;47mE\u001b[0m\n",
       "\u001b[30;42mS\u001b[0m\u001b[30;43mO\u001b[0m\u001b[30;42mO\u001b[0m\u001b[30;42mG\u001b[0m\u001b[30;47mD\u001b[0m\n"
      ]
     },
     "metadata": {},
     "output_type": "display_data"
    },
    {
     "data": {
      "text/html": [
       "<pre style=\"white-space:pre;overflow-x:auto;line-height:normal;font-family:Menlo,'DejaVu Sans Mono',consolas,'Courier New',monospace\">\n",
       "Enter your guessed 5 letter word: </pre>\n"
      ],
      "text/plain": [
       "\n",
       "Enter your guessed 5 letter word: "
      ]
     },
     "metadata": {},
     "output_type": "display_data"
    },
    {
     "name": "stdout",
     "output_type": "stream",
     "text": [
      "soody\n"
     ]
    },
    {
     "data": {
      "text/html": [
       "<pre style=\"white-space:pre;overflow-x:auto;line-height:normal;font-family:Menlo,'DejaVu Sans Mono',consolas,'Courier New',monospace\"><span style=\"color: #000000; text-decoration-color: #000000; background-color: #c0c0c0\">A</span><span style=\"color: #000000; text-decoration-color: #000000; background-color: #808000\">S</span><span style=\"color: #000000; text-decoration-color: #000000; background-color: #c0c0c0\">DF</span><span style=\"color: #000000; text-decoration-color: #000000; background-color: #808000\">G</span>\n",
       "<span style=\"color: #000000; text-decoration-color: #000000; background-color: #008000\">S</span><span style=\"color: #000000; text-decoration-color: #000000; background-color: #808000\">G</span><span style=\"color: #000000; text-decoration-color: #000000; background-color: #c0c0c0\">HRB</span>\n",
       "<span style=\"color: #000000; text-decoration-color: #000000; background-color: #008000\">S</span><span style=\"color: #000000; text-decoration-color: #000000; background-color: #c0c0c0\">M</span><span style=\"color: #000000; text-decoration-color: #000000; background-color: #008000\">OG</span><span style=\"color: #000000; text-decoration-color: #000000; background-color: #c0c0c0\">E</span>\n",
       "<span style=\"color: #000000; text-decoration-color: #000000; background-color: #008000\">S</span><span style=\"color: #000000; text-decoration-color: #000000; background-color: #808000\">O</span><span style=\"color: #000000; text-decoration-color: #000000; background-color: #008000\">OG</span><span style=\"color: #000000; text-decoration-color: #000000; background-color: #c0c0c0\">D</span>\n",
       "<span style=\"color: #000000; text-decoration-color: #000000; background-color: #008000\">S</span><span style=\"color: #000000; text-decoration-color: #000000; background-color: #808000\">O</span><span style=\"color: #000000; text-decoration-color: #000000; background-color: #008000\">O</span><span style=\"color: #000000; text-decoration-color: #000000; background-color: #c0c0c0\">DY</span>\n",
       "</pre>\n"
      ],
      "text/plain": [
       "\u001b[30;47mA\u001b[0m\u001b[30;43mS\u001b[0m\u001b[30;47mD\u001b[0m\u001b[30;47mF\u001b[0m\u001b[30;43mG\u001b[0m\n",
       "\u001b[30;42mS\u001b[0m\u001b[30;43mG\u001b[0m\u001b[30;47mH\u001b[0m\u001b[30;47mR\u001b[0m\u001b[30;47mB\u001b[0m\n",
       "\u001b[30;42mS\u001b[0m\u001b[30;47mM\u001b[0m\u001b[30;42mO\u001b[0m\u001b[30;42mG\u001b[0m\u001b[30;47mE\u001b[0m\n",
       "\u001b[30;42mS\u001b[0m\u001b[30;43mO\u001b[0m\u001b[30;42mO\u001b[0m\u001b[30;42mG\u001b[0m\u001b[30;47mD\u001b[0m\n",
       "\u001b[30;42mS\u001b[0m\u001b[30;43mO\u001b[0m\u001b[30;42mO\u001b[0m\u001b[30;47mD\u001b[0m\u001b[30;47mY\u001b[0m\n"
      ]
     },
     "metadata": {},
     "output_type": "display_data"
    },
    {
     "data": {
      "text/html": [
       "<pre style=\"white-space:pre;overflow-x:auto;line-height:normal;font-family:Menlo,'DejaVu Sans Mono',consolas,'Courier New',monospace\">\n",
       "Enter your guessed 5 letter word: </pre>\n"
      ],
      "text/plain": [
       "\n",
       "Enter your guessed 5 letter word: "
      ]
     },
     "metadata": {},
     "output_type": "display_data"
    },
    {
     "name": "stdout",
     "output_type": "stream",
     "text": [
      "stogo\n"
     ]
    },
    {
     "data": {
      "text/html": [
       "<pre style=\"white-space:pre;overflow-x:auto;line-height:normal;font-family:Menlo,'DejaVu Sans Mono',consolas,'Courier New',monospace\"><span style=\"color: #000000; text-decoration-color: #000000; background-color: #c0c0c0\">A</span><span style=\"color: #000000; text-decoration-color: #000000; background-color: #808000\">S</span><span style=\"color: #000000; text-decoration-color: #000000; background-color: #c0c0c0\">DF</span><span style=\"color: #000000; text-decoration-color: #000000; background-color: #808000\">G</span>\n",
       "<span style=\"color: #000000; text-decoration-color: #000000; background-color: #008000\">S</span><span style=\"color: #000000; text-decoration-color: #000000; background-color: #808000\">G</span><span style=\"color: #000000; text-decoration-color: #000000; background-color: #c0c0c0\">HRB</span>\n",
       "<span style=\"color: #000000; text-decoration-color: #000000; background-color: #008000\">S</span><span style=\"color: #000000; text-decoration-color: #000000; background-color: #c0c0c0\">M</span><span style=\"color: #000000; text-decoration-color: #000000; background-color: #008000\">OG</span><span style=\"color: #000000; text-decoration-color: #000000; background-color: #c0c0c0\">E</span>\n",
       "<span style=\"color: #000000; text-decoration-color: #000000; background-color: #008000\">S</span><span style=\"color: #000000; text-decoration-color: #000000; background-color: #808000\">O</span><span style=\"color: #000000; text-decoration-color: #000000; background-color: #008000\">OG</span><span style=\"color: #000000; text-decoration-color: #000000; background-color: #c0c0c0\">D</span>\n",
       "<span style=\"color: #000000; text-decoration-color: #000000; background-color: #008000\">S</span><span style=\"color: #000000; text-decoration-color: #000000; background-color: #808000\">O</span><span style=\"color: #000000; text-decoration-color: #000000; background-color: #008000\">O</span><span style=\"color: #000000; text-decoration-color: #000000; background-color: #c0c0c0\">DY</span>\n",
       "<span style=\"color: #000000; text-decoration-color: #000000; background-color: #008000\">S</span><span style=\"color: #000000; text-decoration-color: #000000; background-color: #c0c0c0\">T</span><span style=\"color: #000000; text-decoration-color: #000000; background-color: #008000\">OG</span><span style=\"color: #000000; text-decoration-color: #000000; background-color: #808000\">O</span>\n",
       "</pre>\n"
      ],
      "text/plain": [
       "\u001b[30;47mA\u001b[0m\u001b[30;43mS\u001b[0m\u001b[30;47mD\u001b[0m\u001b[30;47mF\u001b[0m\u001b[30;43mG\u001b[0m\n",
       "\u001b[30;42mS\u001b[0m\u001b[30;43mG\u001b[0m\u001b[30;47mH\u001b[0m\u001b[30;47mR\u001b[0m\u001b[30;47mB\u001b[0m\n",
       "\u001b[30;42mS\u001b[0m\u001b[30;47mM\u001b[0m\u001b[30;42mO\u001b[0m\u001b[30;42mG\u001b[0m\u001b[30;47mE\u001b[0m\n",
       "\u001b[30;42mS\u001b[0m\u001b[30;43mO\u001b[0m\u001b[30;42mO\u001b[0m\u001b[30;42mG\u001b[0m\u001b[30;47mD\u001b[0m\n",
       "\u001b[30;42mS\u001b[0m\u001b[30;43mO\u001b[0m\u001b[30;42mO\u001b[0m\u001b[30;47mD\u001b[0m\u001b[30;47mY\u001b[0m\n",
       "\u001b[30;42mS\u001b[0m\u001b[30;47mT\u001b[0m\u001b[30;42mO\u001b[0m\u001b[30;42mG\u001b[0m\u001b[30;43mO\u001b[0m\n"
      ]
     },
     "metadata": {},
     "output_type": "display_data"
    },
    {
     "data": {
      "text/html": [
       "<pre style=\"white-space:pre;overflow-x:auto;line-height:normal;font-family:Menlo,'DejaVu Sans Mono',consolas,'Courier New',monospace\">\n",
       "<span style=\"color: #800000; text-decoration-color: #800000\">WORDLE X/</span><span style=\"color: #800000; text-decoration-color: #800000; font-weight: bold\">6</span>\n",
       "</pre>\n"
      ],
      "text/plain": [
       "\n",
       "\u001b[31mWORDLE X/\u001b[0m\u001b[1;31m6\u001b[0m\n"
      ]
     },
     "metadata": {},
     "output_type": "display_data"
    },
    {
     "data": {
      "text/html": [
       "<pre style=\"white-space:pre;overflow-x:auto;line-height:normal;font-family:Menlo,'DejaVu Sans Mono',consolas,'Courier New',monospace\">\n",
       "<span style=\"color: #008000; text-decoration-color: #008000\">Correct Word: SCOGS</span>\n",
       "</pre>\n"
      ],
      "text/plain": [
       "\n",
       "\u001b[32mCorrect Word: SCOGS\u001b[0m\n"
      ]
     },
     "metadata": {},
     "output_type": "display_data"
    },
    {
     "data": {
      "text/html": [
       "<pre style=\"white-space:pre;overflow-x:auto;line-height:normal;font-family:Menlo,'DejaVu Sans Mono',consolas,'Courier New',monospace\">⬛🟨⬛⬛🟨\n",
       "🟩🟨⬛⬛⬛\n",
       "🟩⬛🟩🟩⬛\n",
       "🟩🟨🟩🟩⬛\n",
       "🟩🟨🟩⬛⬛\n",
       "🟩⬛🟩🟩🟨\n",
       "</pre>\n"
      ],
      "text/plain": [
       "⬛🟨⬛⬛🟨\n",
       "🟩🟨⬛⬛⬛\n",
       "🟩⬛🟩🟩⬛\n",
       "🟩🟨🟩🟩⬛\n",
       "🟩🟨🟩⬛⬛\n",
       "🟩⬛🟩🟩🟨\n"
      ]
     },
     "metadata": {},
     "output_type": "display_data"
    }
   ],
   "source": [
    "from rich.prompt import Prompt\n",
    "from rich.console import Console\n",
    "import random\n",
    "GUESS_STATEMENT = \"\\nEnter your guessed 5 letter word\"\n",
    "ALLOWED_GUESSES = 6\n",
    "\n",
    "SQUARES = {\n",
    "    'correct_place': '🟩',\n",
    "    'correct_letter': '🟨',\n",
    "    'incorrect_letter': '⬛'\n",
    "}\n",
    "def display_whenGameStarts():\n",
    "  print('lets play Wordle')\n",
    "  print('Type the guessed word and hit enter!')\n",
    "\n",
    "\n",
    "display_whenGameStarts()\n",
    "ALLOWED_GUESSES = 6\n",
    "\n",
    "def read_random_word():\n",
    "  with open(\"C:\\\\Users\\\\francis.kubalio\\\\Downloads\\\\wordle\\\\wordle\\\\valid-wordle-words.txt\") as f:\n",
    "    words = f.read().splitlines()\n",
    "    return random.choice(words)\n",
    "\n",
    "\n",
    "\n",
    "def correct_place(letter):\n",
    "    return f'[black on green]{letter}[/]'\n",
    "\n",
    "\n",
    "def correct_letter(letter):\n",
    "    return f'[black on yellow]{letter}[/]'\n",
    "\n",
    "\n",
    "def incorrect_letter(letter):\n",
    "    return f'[black on white]{letter}[/]'\n",
    "\n",
    "\n",
    "chosen_word = read_random_word().upper()\n",
    "\n",
    "def check_guess(guess, answer):\n",
    "    guessed = []\n",
    "    wordle_pattern = []\n",
    "    for i, letter in enumerate(guess):\n",
    "        if answer[i] == guess[i]:\n",
    "            guessed += correct_place(letter)\n",
    "            wordle_pattern.append(SQUARES['correct_place'])\n",
    "        elif letter in answer:\n",
    "            guessed += correct_letter(letter)\n",
    "            wordle_pattern.append(SQUARES['correct_letter'])\n",
    "        else:\n",
    "            guessed += incorrect_letter(letter)\n",
    "            wordle_pattern.append(SQUARES['incorrect_letter'])\n",
    "    return ''.join(guessed), ''.join(wordle_pattern)\n",
    "\n",
    "def game(console, chosen_word):\n",
    "    end_of_game = False\n",
    "    already_guessed = []\n",
    "    full_wordle_pattern = []\n",
    "    all_words_guessed = []\n",
    "\n",
    "    while not end_of_game:\n",
    "        guess = Prompt.ask(GUESS_STATEMENT).upper()\n",
    "        while len(guess) != 5 or type(guess) != str :\n",
    "            if guess in chosen_word:\n",
    "                console.print(\"[red]You've already guessed this word!!\\n[/]\")\n",
    "            else:\n",
    "                console.print('[red]Please enter a 5-letter word!!\\n[/]')\n",
    "            guess = Prompt.ask(GUESS_STATEMENT).upper()\n",
    "        already_guessed.append(guess)\n",
    "        guessed, pattern = check_guess(guess, chosen_word)\n",
    "        all_words_guessed.append(guessed)\n",
    "        full_wordle_pattern.append(pattern)\n",
    "\n",
    "        console.print(*all_words_guessed, sep=\"\\n\")\n",
    "        if guess == chosen_word or len(already_guessed) == ALLOWED_GUESSES:\n",
    "            end_of_game = True\n",
    "    if len(already_guessed) == ALLOWED_GUESSES and guess != chosen_word:\n",
    "        console.print(f\"\\n[red]WORDLE X/{ALLOWED_GUESSES}[/]\")\n",
    "        console.print(f'\\n[green]Correct Word: {chosen_word}[/]')\n",
    "    else:\n",
    "        console.print(f\"\\n[green]WORDLE {len(already_guessed)}/{ALLOWED_GUESSES}[/]\\n\")\n",
    "    console.print(*full_wordle_pattern, sep=\"\\n\")\n",
    "\n",
    "\n",
    "if __name__ == '__main__':\n",
    "    console = Console()\n",
    "    game(console, chosen_word)"
   ]
  },
  {
   "cell_type": "code",
   "execution_count": null,
   "id": "b966f4aa",
   "metadata": {},
   "outputs": [],
   "source": []
  },
  {
   "cell_type": "code",
   "execution_count": null,
   "id": "92df81ad",
   "metadata": {},
   "outputs": [],
   "source": []
  }
 ],
 "metadata": {
  "kernelspec": {
   "display_name": "Python 3 (ipykernel)",
   "language": "python",
   "name": "python3"
  },
  "language_info": {
   "codemirror_mode": {
    "name": "ipython",
    "version": 3
   },
   "file_extension": ".py",
   "mimetype": "text/x-python",
   "name": "python",
   "nbconvert_exporter": "python",
   "pygments_lexer": "ipython3",
   "version": "3.9.13"
  }
 },
 "nbformat": 4,
 "nbformat_minor": 5
}
