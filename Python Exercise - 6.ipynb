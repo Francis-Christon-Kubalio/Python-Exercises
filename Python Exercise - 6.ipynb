{
 "cells": [
  {
   "cell_type": "markdown",
   "id": "230ccc76",
   "metadata": {},
   "source": [
    "# Exercise - 6"
   ]
  },
  {
   "cell_type": "raw",
   "id": "b7174fc4",
   "metadata": {},
   "source": [
    "Exercise Name:\n",
    "\t06-Pattern-Fun\n",
    "Description:\n",
    "\tPrompt for row count and print a number pattern using that value\n",
    "Given:\n",
    "\trow_count = 5\n",
    "Return:\n",
    "\t1 1 1 1 1 \n",
    "\t2 2 2 2 \n",
    "\t3 3 3 \n",
    "\t4 4 \n",
    "\t5\n"
   ]
  },
  {
   "cell_type": "code",
   "execution_count": 297,
   "id": "86ed1f20",
   "metadata": {},
   "outputs": [],
   "source": [
    "\n",
    "def pattern_fun(rows):\n",
    "    b = 0\n",
    "    for i in range(rows, 0, -1):\n",
    "        b += 1\n",
    "        for j in range(0, i ):\n",
    "            print(b, end=' ')\n",
    "        print('\\r')\n"
   ]
  },
  {
   "cell_type": "code",
   "execution_count": 298,
   "id": "956ab530",
   "metadata": {},
   "outputs": [
    {
     "name": "stdout",
     "output_type": "stream",
     "text": [
      "1 1 1 1 1 \r\n",
      "2 2 2 2 \r\n",
      "3 3 3 \r\n",
      "4 4 \r\n",
      "5 \r\n"
     ]
    }
   ],
   "source": [
    "pattern_fun(5)"
   ]
  },
  {
   "cell_type": "code",
   "execution_count": null,
   "id": "df1fe8fa",
   "metadata": {},
   "outputs": [],
   "source": []
  }
 ],
 "metadata": {
  "kernelspec": {
   "display_name": "Python 3 (ipykernel)",
   "language": "python",
   "name": "python3"
  },
  "language_info": {
   "codemirror_mode": {
    "name": "ipython",
    "version": 3
   },
   "file_extension": ".py",
   "mimetype": "text/x-python",
   "name": "python",
   "nbconvert_exporter": "python",
   "pygments_lexer": "ipython3",
   "version": "3.9.13"
  }
 },
 "nbformat": 4,
 "nbformat_minor": 5
}
