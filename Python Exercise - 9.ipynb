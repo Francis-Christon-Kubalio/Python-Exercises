{
 "cells": [
  {
   "cell_type": "markdown",
   "id": "d5ac9fe3",
   "metadata": {},
   "source": [
    "# Exercise - 9\n"
   ]
  },
  {
   "cell_type": "raw",
   "id": "913f7ef5",
   "metadata": {},
   "source": [
    "Exercise Name:\n",
    "\t09-OOP-Demo\n",
    "Description:\n",
    "\tCreate a class and demonstrate how @property decorator is used\n"
   ]
  },
  {
   "cell_type": "code",
   "execution_count": 10,
   "id": "e7777884",
   "metadata": {},
   "outputs": [
    {
     "name": "stdout",
     "output_type": "stream",
     "text": [
      "@property decorator\n"
     ]
    },
    {
     "ename": "AttributeError",
     "evalue": "'OOP_Demo' object has no attribute '_OOP_Demo__name'",
     "output_type": "error",
     "traceback": [
      "\u001b[1;31m---------------------------------------------------------------------------\u001b[0m",
      "\u001b[1;31mAttributeError\u001b[0m                            Traceback (most recent call last)",
      "\u001b[1;32m~\\AppData\\Local\\Temp\\ipykernel_13584\\2326628026.py\u001b[0m in \u001b[0;36m<module>\u001b[1;34m\u001b[0m\n\u001b[0;32m     40\u001b[0m \u001b[1;31m# As name is deleted above this\u001b[0m\u001b[1;33m\u001b[0m\u001b[1;33m\u001b[0m\u001b[0m\n\u001b[0;32m     41\u001b[0m \u001b[1;31m# will throw an error\u001b[0m\u001b[1;33m\u001b[0m\u001b[1;33m\u001b[0m\u001b[0m\n\u001b[1;32m---> 42\u001b[1;33m \u001b[0mprint\u001b[0m \u001b[1;33m(\u001b[0m\u001b[0mObject\u001b[0m\u001b[1;33m.\u001b[0m\u001b[0mname\u001b[0m\u001b[1;33m)\u001b[0m\u001b[1;33m\u001b[0m\u001b[1;33m\u001b[0m\u001b[0m\n\u001b[0m",
      "\u001b[1;32m~\\AppData\\Local\\Temp\\ipykernel_13584\\2326628026.py\u001b[0m in \u001b[0;36mname\u001b[1;34m(self)\u001b[0m\n\u001b[0;32m     14\u001b[0m     \u001b[1;31m# Getter method\u001b[0m\u001b[1;33m\u001b[0m\u001b[1;33m\u001b[0m\u001b[0m\n\u001b[0;32m     15\u001b[0m     \u001b[1;32mdef\u001b[0m \u001b[0mname\u001b[0m\u001b[1;33m(\u001b[0m\u001b[0mself\u001b[0m\u001b[1;33m)\u001b[0m\u001b[1;33m:\u001b[0m\u001b[1;33m\u001b[0m\u001b[1;33m\u001b[0m\u001b[0m\n\u001b[1;32m---> 16\u001b[1;33m         \u001b[1;32mreturn\u001b[0m \u001b[0mself\u001b[0m\u001b[1;33m.\u001b[0m\u001b[0m__name\u001b[0m\u001b[1;33m\u001b[0m\u001b[1;33m\u001b[0m\u001b[0m\n\u001b[0m\u001b[0;32m     17\u001b[0m \u001b[1;33m\u001b[0m\u001b[0m\n\u001b[0;32m     18\u001b[0m     \u001b[1;31m# Setter method\u001b[0m\u001b[1;33m\u001b[0m\u001b[1;33m\u001b[0m\u001b[0m\n",
      "\u001b[1;31mAttributeError\u001b[0m: 'OOP_Demo' object has no attribute '_OOP_Demo__name'"
     ]
    }
   ],
   "source": [
    "# Python program to illustrate the use of\n",
    "# @property decorator\n",
    " \n",
    "# Defining class\n",
    "class OOP_Demo:\n",
    " \n",
    "    # Defining __init__ method\n",
    "    def __init__(self):\n",
    "        self.__name =''\n",
    "     \n",
    "    # Using @property decorator\n",
    "    @property\n",
    "     \n",
    "    # Getter method\n",
    "    def name(self):\n",
    "        return self.__name\n",
    "     \n",
    "    # Setter method\n",
    "    @name.setter\n",
    "    def name(self, val):\n",
    "        self.__name = val\n",
    " \n",
    "    # Deleter method\n",
    "    @name.deleter\n",
    "    def name(self):\n",
    "       del self.__name\n",
    " \n",
    "# Creating object\n",
    "Object = OOP_Demo();\n",
    " \n",
    "# Setting name\n",
    "Object.name = '@property decorator'\n",
    " \n",
    "# Prints name\n",
    "print (Object.name)\n",
    " \n",
    "# Deletes name\n",
    "del Object.name\n",
    " \n",
    "# As name is deleted above this\n",
    "# will throw an error\n",
    "print (Object.name)"
   ]
  },
  {
   "cell_type": "code",
   "execution_count": null,
   "id": "701a0364",
   "metadata": {},
   "outputs": [],
   "source": []
  }
 ],
 "metadata": {
  "kernelspec": {
   "display_name": "Python 3 (ipykernel)",
   "language": "python",
   "name": "python3"
  },
  "language_info": {
   "codemirror_mode": {
    "name": "ipython",
    "version": 3
   },
   "file_extension": ".py",
   "mimetype": "text/x-python",
   "name": "python",
   "nbconvert_exporter": "python",
   "pygments_lexer": "ipython3",
   "version": "3.9.13"
  }
 },
 "nbformat": 4,
 "nbformat_minor": 5
}
