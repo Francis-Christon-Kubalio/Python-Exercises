{
 "cells": [
  {
   "cell_type": "markdown",
   "id": "81ca0391",
   "metadata": {},
   "source": [
    "# Exercise 2"
   ]
  },
  {
   "cell_type": "raw",
   "id": "3066d565",
   "metadata": {},
   "source": [
    "Exercise Name:\n",
    "\t02-String-Reversal-With-Case\n",
    "Description:\n",
    "\tReverse each word of a string without changing upper-case positions.\n",
    "Given: \n",
    "\tsentence = \"Python is Awesome\"\n",
    "Return: \n",
    "\t\"Nohtyp si Emosewa\""
   ]
  },
  {
   "cell_type": "markdown",
   "id": "f4b9e8e8",
   "metadata": {},
   "source": [
    "Method 1 - Without using too much inbuilt function."
   ]
  },
  {
   "cell_type": "code",
   "execution_count": 182,
   "id": "67c1cedb",
   "metadata": {},
   "outputs": [
    {
     "name": "stdout",
     "output_type": "stream",
     "text": [
      "\u001b[31mGivenSentence =  Python is AwesomE\n",
      "\u001b[34mReversed words from sentence =  ['nohtyP', 'si', 'EmosewA']\n",
      "\u001b[33mReversed Sentence =  nohtyP si EmosewA \n",
      "\u001b[32mNew Sentence without changing upper-case positions =   Nohtyp si EmosewA\n"
     ]
    }
   ],
   "source": [
    "import colorama\n",
    "from colorama import Fore\n",
    "sentence = \"Python is AwesomE\"\n",
    "rev_words = []\n",
    "new_sentence = \" \"\n",
    "rev_string=\"\"\n",
    "words = sentence.split(' ')\n",
    "for word in words: \n",
    "    rev_words+=[word[::-1]]\n",
    "for newword in rev_words:\n",
    "    rev_string+=newword + \" \"\n",
    "for i in range(len(rev_string) - 1):\n",
    "    if sentence[i].isupper():\n",
    "        new_sentence += rev_string[i].upper()\n",
    "    else:\n",
    "        new_sentence +=rev_string[i].lower()\n",
    "        \n",
    "print(Fore.RED +\"GivenSentence = \" , sentence)\n",
    "print(Fore.BLUE +\"Reversed words from sentence = \" , rev_words)\n",
    "print(Fore.YELLOW +\"Reversed Sentence = \" , rev_string)\n",
    "print(Fore.GREEN + \"New Sentence without changing upper-case positions = \" , new_sentence)"
   ]
  },
  {
   "cell_type": "markdown",
   "id": "af7025db",
   "metadata": {},
   "source": [
    "Method 2 - Using inbuilt function and making it as a function"
   ]
  },
  {
   "cell_type": "code",
   "execution_count": 186,
   "id": "60bc7736",
   "metadata": {},
   "outputs": [],
   "source": [
    "def reverse_sentence(s):\n",
    "\n",
    "  rev_string =' '.join(i[::-1] for i in s.split(\" \"))\n",
    "\n",
    "  new_sentence = ''\n",
    "\n",
    "  for i in range(len(s)):\n",
    "\n",
    "    if s[i].isupper():\n",
    "\n",
    "      new_sentence += rev_string[i].upper()\n",
    "\n",
    "    else:\n",
    "\n",
    "      new_sentence += rev_string[i].lower()\n",
    "\n",
    "  return new_sentence"
   ]
  },
  {
   "cell_type": "code",
   "execution_count": 187,
   "id": "91b975ae",
   "metadata": {},
   "outputs": [
    {
     "data": {
      "text/plain": [
       "'Nohtyp si EmosewA'"
      ]
     },
     "execution_count": 187,
     "metadata": {},
     "output_type": "execute_result"
    }
   ],
   "source": [
    "reverse_sentence(\"Python is AwesomE\")"
   ]
  },
  {
   "cell_type": "code",
   "execution_count": null,
   "id": "ac449fac",
   "metadata": {},
   "outputs": [],
   "source": []
  }
 ],
 "metadata": {
  "kernelspec": {
   "display_name": "Python 3 (ipykernel)",
   "language": "python",
   "name": "python3"
  },
  "language_info": {
   "codemirror_mode": {
    "name": "ipython",
    "version": 3
   },
   "file_extension": ".py",
   "mimetype": "text/x-python",
   "name": "python",
   "nbconvert_exporter": "python",
   "pygments_lexer": "ipython3",
   "version": "3.9.13"
  }
 },
 "nbformat": 4,
 "nbformat_minor": 5
}
