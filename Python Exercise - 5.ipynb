{
 "cells": [
  {
   "cell_type": "markdown",
   "id": "d75b3202",
   "metadata": {},
   "source": [
    "# Exercise - 5"
   ]
  },
  {
   "cell_type": "raw",
   "id": "7f6d4363",
   "metadata": {},
   "source": [
    "Exercise Name:\n",
    "\t05-Dictionary-Iteration\n",
    "Description:\n",
    "\tReverse Dictionary mapping\n",
    "Given:\n",
    "\tascii_dict = {'A': 65, 'B': 66, 'C': 67, 'D': 68}\n",
    "Return:\n",
    "\t{65: 'A', 66: 'B', 67: 'C', 68: 'D'}\n"
   ]
  },
  {
   "cell_type": "markdown",
   "id": "37e8c5b6",
   "metadata": {},
   "source": [
    "Method 1 - Using dict_comprehension from dict.items"
   ]
  },
  {
   "cell_type": "code",
   "execution_count": 292,
   "id": "197b25f8",
   "metadata": {},
   "outputs": [
    {
     "name": "stdout",
     "output_type": "stream",
     "text": [
      "ascii dictionary :  {'A': 65, 'B': 66, 'C': 67, 'D': 68}\n",
      "inverse mapped dictionary :  {65: 'A', 66: 'B', 67: 'C', 68: 'D'}\n"
     ]
    }
   ],
   "source": [
    "ascii_dict = {'A': 65, 'B': 66, 'C': 67, 'D': 68}\n",
    "  \n",
    "print(\"ascii dictionary : \", ascii_dict)\n",
    "\n",
    "reverse_dict = {value: key for key, value in ascii_dict.items()}\n",
    "  \n",
    "print(\"inverse mapped dictionary : \", reverse_dict)"
   ]
  },
  {
   "cell_type": "markdown",
   "id": "798d2fdf",
   "metadata": {},
   "source": [
    "Method 2 - Using dict.values() and dict.keys()"
   ]
  },
  {
   "cell_type": "code",
   "execution_count": 293,
   "id": "6930acc2",
   "metadata": {},
   "outputs": [
    {
     "name": "stdout",
     "output_type": "stream",
     "text": [
      "ascii dictionary :  {'A': 65, 'B': 66, 'C': 67, 'D': 68}\n",
      "inverse mapped dictionary :  {65: 'A', 66: 'B', 67: 'C', 68: 'D'}\n"
     ]
    }
   ],
   "source": [
    "\n",
    "\n",
    "ascii_dict = {'A': 65, 'B': 66, 'C': 67, 'D': 68}\n",
    "  \n",
    "print(\"ascii dictionary : \", ascii_dict)\n",
    "\n",
    "reverse_dict = dict(zip(ascii_dict.values(), ascii_dict.keys()))\n",
    "  \n",
    "print(\"inverse mapped dictionary : \", reverse_dict)"
   ]
  },
  {
   "cell_type": "code",
   "execution_count": null,
   "id": "b007d5fa",
   "metadata": {},
   "outputs": [],
   "source": []
  }
 ],
 "metadata": {
  "kernelspec": {
   "display_name": "Python 3 (ipykernel)",
   "language": "python",
   "name": "python3"
  },
  "language_info": {
   "codemirror_mode": {
    "name": "ipython",
    "version": 3
   },
   "file_extension": ".py",
   "mimetype": "text/x-python",
   "name": "python",
   "nbconvert_exporter": "python",
   "pygments_lexer": "ipython3",
   "version": "3.9.13"
  }
 },
 "nbformat": 4,
 "nbformat_minor": 5
}
